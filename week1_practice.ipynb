{
 "cells": [
  {
   "cell_type": "markdown",
   "id": "a7409dc4",
   "metadata": {},
   "source": [
    "## Week 1 Practice\n",
    "\n",
    "#### Instructions\n",
    "\n",
    "1. Use the csv library to write some data into a CSV file\n",
    "2. Then, use csv and jinja2 to convert that information into an HTML file. Upload that file   into the server\n",
    "3. Pair up with a peer to exchange URLs of the files you created\n",
    "4. Write code to get the friend’s file onto your computer and use beautifulsoup to extract   the content of what your friend has written, and then save that content into a JSON file   (as a dictionary of values).\n"
   ]
  },
  {
   "cell_type": "code",
   "execution_count": 1,
   "id": "0b83ff6d",
   "metadata": {},
   "outputs": [],
   "source": [
    "import csv"
   ]
  },
  {
   "cell_type": "code",
   "execution_count": 3,
   "id": "b59952e0",
   "metadata": {},
   "outputs": [],
   "source": [
    "rows = [{\"Course number\": 315, \"Course title\": \"Data Science for the Web\", \"Department\": \"CS\"}, \n",
    "        {\"Course number\": 231, \"Course title\": \"Fundamental Algorithms\", \"Department\": \"CS\"},\n",
    "        {\"Course number\": 230, \"Course title\": \"Data Structures\", \"Department\": \"CS\"},\n",
    "        {\"Course number\": 101, \"Course title\": \"Principles of Microeconomics\", \"Department\": \"ECON\"},\n",
    "        {\"Course number\": 206, \"Course title\": \"Linear Algebra\", \"Department\": \"MATH\"},\n",
    "        {\"Course number\": 225, \"Course title\": \"Combinatorics and Graph Theory\", \"Department\": \"MATH\"}\n",
    "       ]\n",
    "\n",
    "with open('courses.csv','w') as outFile:\n",
    "    csvWriter = csv.DictWriter(outFile, \n",
    "                               fieldnames=rows[0].keys()) # get the key names as column names\n",
    "    \n",
    "    csvWriter.writeheader() # write the column names\n",
    "    csvWriter.writerows(rows) # write all rows"
   ]
  },
  {
   "cell_type": "code",
   "execution_count": 4,
   "id": "864697a5",
   "metadata": {},
   "outputs": [],
   "source": [
    "from jinja2 import Template"
   ]
  },
  {
   "cell_type": "code",
   "execution_count": 5,
   "id": "3b9e5725",
   "metadata": {},
   "outputs": [],
   "source": [
    "htmlTemplate = \"\"\"\n",
    "<DOCTYPE html>\n",
    "<html>\n",
    "    <head><title>Courses at Wellesley</title></head>\n",
    "    <body>\n",
    "        <h1>Courses at Wellesley</h1>\n",
    "        <h4>A list of some courses I've taken at Wellesley and enjoyed and some courses I'm currently taking!</h4>\n",
    "        <ul>\n",
    "        {% for course in courseList %}\n",
    "            <li class=\"course\">{{ course['Department'] }} {{ course['Course number'] }}: {{ course['Course title']}}</li> \n",
    "        {% endfor %}\n",
    "        </ul>\n",
    "    </body>\n",
    "</html>\n",
    "\"\"\"\n",
    "\n",
    "tempObj = Template(htmlTemplate)"
   ]
  },
  {
   "cell_type": "code",
   "execution_count": 6,
   "id": "1db3fa77",
   "metadata": {},
   "outputs": [
    {
     "name": "stdout",
     "output_type": "stream",
     "text": [
      "\n",
      "<DOCTYPE html>\n",
      "<html>\n",
      "    <head><title>Courses at Wellesley</title></head>\n",
      "    <body>\n",
      "        <h1>Courses at Wellesley</h1>\n",
      "        <h4>A list of some courses I've taken at Wellesley and enjoyed and some courses I'm currently taking!</h4>\n",
      "        <ul>\n",
      "        \n",
      "            <li class=\"course\">CS 315: Data Science for the Web</li> \n",
      "        \n",
      "            <li class=\"course\">CS 231: Fundamental Algorithms</li> \n",
      "        \n",
      "            <li class=\"course\">CS 230: Data Structures</li> \n",
      "        \n",
      "            <li class=\"course\">ECON 101: Principles of Microeconomics</li> \n",
      "        \n",
      "            <li class=\"course\">MATH 206: Linear Algebra</li> \n",
      "        \n",
      "            <li class=\"course\">MATH 225: Combinatorics and Graph Theory</li> \n",
      "        \n",
      "        </ul>\n",
      "    </body>\n",
      "</html>\n"
     ]
    }
   ],
   "source": [
    "# Render the template by passing as an argument the list of objects.\n",
    "result = tempObj.render(courseList=rows)\n",
    "print(result)"
   ]
  },
  {
   "cell_type": "code",
   "execution_count": 7,
   "id": "5ebff626",
   "metadata": {},
   "outputs": [],
   "source": [
    "with open('courses.html', 'w') as outHTML:\n",
    "    outHTML.write(result)"
   ]
  },
  {
   "cell_type": "code",
   "execution_count": 8,
   "id": "cbf6b5de",
   "metadata": {},
   "outputs": [],
   "source": [
    "import requests"
   ]
  },
  {
   "cell_type": "code",
   "execution_count": 9,
   "id": "c5c7757f",
   "metadata": {},
   "outputs": [
    {
     "name": "stdout",
     "output_type": "stream",
     "text": [
      "200\n"
     ]
    }
   ],
   "source": [
    "response = requests.get(\"https://cs.wellesley.edu/~hl105/courses.html\")\n",
    "print(response.status_code)"
   ]
  },
  {
   "cell_type": "code",
   "execution_count": 11,
   "id": "85ea347b",
   "metadata": {},
   "outputs": [],
   "source": [
    "import bs4\n",
    "from bs4 import BeautifulSoup as BS\n",
    "\n",
    "def getHTMLPage(url):\n",
    "    \"\"\"Given a url, get the HTML page content\"\"\"\n",
    "    \n",
    "    response = requests.get(url)\n",
    "    if response.status_code == 200:\n",
    "        return response.text\n",
    "    else:\n",
    "        print(\"Failure resaon:\", response.reason)\n",
    "        return"
   ]
  },
  {
   "cell_type": "code",
   "execution_count": 13,
   "id": "50fa9bc5",
   "metadata": {},
   "outputs": [
    {
     "name": "stdout",
     "output_type": "stream",
     "text": [
      "\n",
      "<DOCTYPE html>\n",
      "<html>\n",
      "    <head><title>my courses</title></head>\n",
      "    <link rel=\"stylesheet\" href=\"style.css\">\n",
      "    <body>\n",
      "        <h1>What classes have I taken?</h1>\n",
      "        <ul>\n",
      "        \n",
      "            <li class=\"student\">molecular bio (bisc110), taken in fall_22, for the major: distribution.</li> \n",
      "        \n",
      "            <li class=\"student\">multivariable calculus (math205), taken in fall_22, for the major: mathematics.</li> \n",
      "        \n",
      "            <li class=\"student\">intro to cs (cs111), taken in fall_22, for the major: computer science.</li> \n",
      "        \n",
      "            <li class=\"student\">first year writing (writ185), taken in fall_22, for the major: distribution.</li> \n",
      "        \n",
      "            <li class=\"student\">intro to cs (stat218), taken in spring_23, for the major: mathematics.</li> \n",
      "        \n",
      "            <li class=\"student\">discrete mathematics (6_1200), taken in spring_23, for the major: mathematics.</li> \n",
      "        \n",
      "            <li class=\"student\">data structures (cs230), taken in spring_23, for the major: computer science.</li> \n",
      "        \n",
      "            <li class=\"student\">microeconomics (econ101), taken in spring_23, for the major: distribution.</li> \n",
      "        \n",
      "            <li class=\"student\">linear algebra (math206), taken in summer_23, for the major: mathematics.</li> \n",
      "        \n",
      "            <li class=\"student\">artifical intelligence (cs232), taken in fall_23, for the major: computer science.</li> \n",
      "        \n",
      "            <li class=\"student\">algorithms (6_1210), taken in fall_23, for the major: computer science.</li> \n",
      "        \n",
      "            <li class=\"student\">computer systems (cs240), taken in fall_23, for the major: computer science.</li> \n",
      "        \n",
      "            <li class=\"student\">writers around the globe (eng103), taken in fall_23, for the major: distribution.</li> \n",
      "        \n",
      "            <li class=\"student\">improv (thst185), taken in winter_23, for the major: distribution.</li> \n",
      "        \n",
      "            <li class=\"student\">abstract algebra (math305), taken in spring_23, for the major: mathematics.</li> \n",
      "        \n",
      "            <li class=\"student\">machine learning (6_3900), taken in spring_23, for the major: computer science.</li> \n",
      "        \n",
      "            <li class=\"student\">data science for the web (cs315), taken in spring_23, for the major: computer science.</li> \n",
      "        \n",
      "            <li class=\"student\">electronic and computer music (mus275), taken in spring_23, for the major: distribution.</li> \n",
      "        \n",
      "        </ul>\n",
      "    </body>\n",
      "</html>\n"
     ]
    }
   ],
   "source": [
    "url = \"https://cs.wellesley.edu/~hl105/courses.html\"\n",
    "htmlPage = getHTMLPage(url)\n",
    "print(htmlPage)\n",
    "\n",
    "domTree = BS(htmlPage, 'html.parser')"
   ]
  },
  {
   "cell_type": "code",
   "execution_count": 23,
   "id": "19ad0874",
   "metadata": {},
   "outputs": [],
   "source": [
    "content = [{\"title\": domTree.find('title').text, \"h1\": domTree.find('h1').text, \n",
    "           \"list\": domTree.find('ul').text}]\n",
    "\n",
    "# Dump into a file\n",
    "\n",
    "import json\n",
    "with open('johanna-courses.json', 'w') as outFile:\n",
    "    json.dump(content, outFile)"
   ]
  },
  {
   "cell_type": "code",
   "execution_count": 21,
   "id": "42a155a8",
   "metadata": {},
   "outputs": [
    {
     "data": {
      "text/plain": [
       "[{'title': 'my courses',\n",
       "  'h1': 'What classes have I taken?',\n",
       "  'list': '\\nmolecular bio (bisc110), taken in fall_22, for the major: distribution.\\nmultivariable calculus (math205), taken in fall_22, for the major: mathematics.\\nintro to cs (cs111), taken in fall_22, for the major: computer science.\\nfirst year writing (writ185), taken in fall_22, for the major: distribution.\\nintro to cs (stat218), taken in spring_23, for the major: mathematics.\\ndiscrete mathematics (6_1200), taken in spring_23, for the major: mathematics.\\ndata structures (cs230), taken in spring_23, for the major: computer science.\\nmicroeconomics (econ101), taken in spring_23, for the major: distribution.\\nlinear algebra (math206), taken in summer_23, for the major: mathematics.\\nartifical intelligence (cs232), taken in fall_23, for the major: computer science.\\nalgorithms (6_1210), taken in fall_23, for the major: computer science.\\ncomputer systems (cs240), taken in fall_23, for the major: computer science.\\nwriters around the globe (eng103), taken in fall_23, for the major: distribution.\\nimprov (thst185), taken in winter_23, for the major: distribution.\\nabstract algebra (math305), taken in spring_23, for the major: mathematics.\\nmachine learning (6_3900), taken in spring_23, for the major: computer science.\\ndata science for the web (cs315), taken in spring_23, for the major: computer science.\\nelectronic and computer music (mus275), taken in spring_23, for the major: distribution.\\n'}]"
      ]
     },
     "execution_count": 21,
     "metadata": {},
     "output_type": "execute_result"
    }
   ],
   "source": [
    "content"
   ]
  }
 ],
 "metadata": {
  "kernelspec": {
   "display_name": "Python 3 (ipykernel)",
   "language": "python",
   "name": "python3"
  },
  "language_info": {
   "codemirror_mode": {
    "name": "ipython",
    "version": 3
   },
   "file_extension": ".py",
   "mimetype": "text/x-python",
   "name": "python",
   "nbconvert_exporter": "python",
   "pygments_lexer": "ipython3",
   "version": "3.9.13"
  }
 },
 "nbformat": 4,
 "nbformat_minor": 5
}
